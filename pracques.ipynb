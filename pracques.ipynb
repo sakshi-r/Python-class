{
 "cells": [
  {
   "cell_type": "code",
   "execution_count": 5,
   "metadata": {},
   "outputs": [],
   "source": [
    "def multiplication_or_sum(num1, num2):\n",
    "    product= num1* num2\n",
    "    if product<= 1000:\n",
    "        return product\n",
    "    else:\n",
    "        return num1 +num2\n",
    "result= multiplication_or_sum(20, 30)\n",
    "print(\"The result is\", result)\n",
    "result= multiplication_or_sum(40,30)\n",
    "print(\"the result is\", result)"
   ]
  },
  {
   "cell_type": "code",
   "execution_count": null,
   "metadata": {},
   "outputs": [],
   "source": []
  }
 ],
 "metadata": {
  "kernelspec": {
   "display_name": "Python 3.10.5 64-bit",
   "language": "python",
   "name": "python3"
  },
  "language_info": {
   "codemirror_mode": {
    "name": "ipython",
    "version": 3
   },
   "file_extension": ".py",
   "mimetype": "text/x-python",
   "name": "python",
   "nbconvert_exporter": "python",
   "pygments_lexer": "ipython3",
   "version": "3.10.5"
  },
  "orig_nbformat": 4,
  "vscode": {
   "interpreter": {
    "hash": "5402ebba8cf15a806dc9d4ad29c33f8db1f2b4353112154226fe442857eb5f9d"
   }
  }
 },
 "nbformat": 4,
 "nbformat_minor": 2
}
