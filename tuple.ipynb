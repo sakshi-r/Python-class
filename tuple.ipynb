{
 "cells": [
  {
   "cell_type": "markdown",
   "metadata": {},
   "source": [
    "# Tuple"
   ]
  },
  {
   "cell_type": "code",
   "execution_count": 1,
   "metadata": {},
   "outputs": [
    {
     "data": {
      "text/plain": [
       "2"
      ]
     },
     "execution_count": 1,
     "metadata": {},
     "output_type": "execute_result"
    }
   ],
   "source": [
    "tu= (1,2,4,5,5,7,8,1,2,4,3,6,9)\n",
    "tu.count(1)"
   ]
  },
  {
   "cell_type": "code",
   "execution_count": 2,
   "metadata": {},
   "outputs": [
    {
     "data": {
      "text/plain": [
       "0"
      ]
     },
     "execution_count": 2,
     "metadata": {},
     "output_type": "execute_result"
    }
   ],
   "source": [
    "tu.index(1)"
   ]
  },
  {
   "cell_type": "code",
   "execution_count": 1,
   "metadata": {},
   "outputs": [
    {
     "name": "stdout",
     "output_type": "stream",
     "text": [
      "2 occurences of 1\n",
      "4 index has 4321\n",
      "1 12 123 1234 4321 321 21 1 \n",
      "reversed:- \n",
      "1 21 321 4321 1234 123 12 1 "
     ]
    }
   ],
   "source": [
    "mytuple= 1,12,123,1234,4321,321,21,1\n",
    "print(mytuple.count(1), 'occurences of 1')\n",
    "print(mytuple.index(4321), 'index has 4321')\n",
    "\n",
    "for i in mytuple:\n",
    "    print(i, end= ' ')\n",
    "print('\\nreversed:- ')\n",
    "for i in mytuple[:: -1]:\n",
    "    print(i, end= ' ')"
   ]
  },
  {
   "cell_type": "code",
   "execution_count": 2,
   "metadata": {},
   "outputs": [
    {
     "name": "stdout",
     "output_type": "stream",
     "text": [
      "2 occurences of 1\n",
      "4 index has 4321\n"
     ]
    }
   ],
   "source": [
    "mytuple= 1,12,123,1234,4321,321,21,1\n",
    "print(mytuple.count(1), 'occurences of 1')\n",
    "print(mytuple.index(4321), 'index has 4321')"
   ]
  },
  {
   "cell_type": "code",
   "execution_count": null,
   "metadata": {},
   "outputs": [],
   "source": []
  }
 ],
 "metadata": {
  "kernelspec": {
   "display_name": "Python 3.10.5 64-bit",
   "language": "python",
   "name": "python3"
  },
  "language_info": {
   "codemirror_mode": {
    "name": "ipython",
    "version": 3
   },
   "file_extension": ".py",
   "mimetype": "text/x-python",
   "name": "python",
   "nbconvert_exporter": "python",
   "pygments_lexer": "ipython3",
   "version": "3.10.5"
  },
  "orig_nbformat": 4,
  "vscode": {
   "interpreter": {
    "hash": "5402ebba8cf15a806dc9d4ad29c33f8db1f2b4353112154226fe442857eb5f9d"
   }
  }
 },
 "nbformat": 4,
 "nbformat_minor": 2
}
