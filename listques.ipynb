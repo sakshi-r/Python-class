{
 "cells": [
  {
   "cell_type": "markdown",
   "metadata": {},
   "source": [
    "# Question1: Create a list of size n with random numbers from 0 to 100."
   ]
  },
  {
   "cell_type": "markdown",
   "metadata": {},
   "source": []
  },
  {
   "cell_type": "code",
   "execution_count": 1,
   "metadata": {},
   "outputs": [
    {
     "name": "stdout",
     "output_type": "stream",
     "text": [
      "[34, 28, 97, 9, 32, 83, 36]\n"
     ]
    }
   ],
   "source": [
    "from random import randint\n",
    "n= int(input(\"Enter size of list:\"))\n",
    "x= [] #empty list\n",
    "for i in range(n):\n",
    "    val= randint(1,100)\n",
    "    x.append(val)\n",
    "print(x)\n",
    "\n"
   ]
  },
  {
   "cell_type": "markdown",
   "metadata": {},
   "source": [
    "# Question2: Calculate the mean, max, min, sum of the list"
   ]
  },
  {
   "cell_type": "code",
   "execution_count": 7,
   "metadata": {},
   "outputs": [
    {
     "name": "stdout",
     "output_type": "stream",
     "text": [
      "1\n"
     ]
    }
   ],
   "source": [
    "n= int(input(\"enter size of list:\"))\n",
    "numbers=[]\n",
    "for i in range(n):\n",
    "    val= int(input(\"><enter a number:\"))\n",
    "numbers.append(val)\n",
    "sum=0\n",
    "for val in range():\n",
    "    sum+=val\n",
    "print(sum)\n",
    "\n"
   ]
  },
  {
   "cell_type": "code",
   "execution_count": 8,
   "metadata": {},
   "outputs": [
    {
     "ename": "TypeError",
     "evalue": "'int' object is not callable",
     "output_type": "error",
     "traceback": [
      "\u001b[1;31m---------------------------------------------------------------------------\u001b[0m",
      "\u001b[1;31mTypeError\u001b[0m                                 Traceback (most recent call last)",
      "\u001b[1;32mc:\\Users\\ASPIRE 3\\Documents\\Python digipodium\\listques.ipynb Cell 6'\u001b[0m in \u001b[0;36m<cell line: 1>\u001b[1;34m()\u001b[0m\n\u001b[1;32m----> <a href='vscode-notebook-cell:/c%3A/Users/ASPIRE%203/Documents/Python%20digipodium/listques.ipynb#ch0000006?line=0'>1</a>\u001b[0m total\u001b[39m=\u001b[39m \u001b[39msum\u001b[39;49m(x)\n\u001b[0;32m      <a href='vscode-notebook-cell:/c%3A/Users/ASPIRE%203/Documents/Python%20digipodium/listques.ipynb#ch0000006?line=1'>2</a>\u001b[0m xmin\u001b[39m=\u001b[39m \u001b[39mmin\u001b[39m(x)\n\u001b[0;32m      <a href='vscode-notebook-cell:/c%3A/Users/ASPIRE%203/Documents/Python%20digipodium/listques.ipynb#ch0000006?line=2'>3</a>\u001b[0m xmax\u001b[39m=\u001b[39m \u001b[39mmax\u001b[39m(x)\n",
      "\u001b[1;31mTypeError\u001b[0m: 'int' object is not callable"
     ]
    }
   ],
   "source": [
    "total= sum(x)\n",
    "xmin= min(x)\n",
    "xmax= max(x)\n",
    "xmean= total/len(x)\n",
    "print(\"Total:\", total)\n",
    "print(\"Min:\", xmin)\n",
    "print(\"Max:\", xmax)\n",
    "print(\"Mean:\", xmean)"
   ]
  },
  {
   "cell_type": "markdown",
   "metadata": {},
   "source": [
    "# Question3: generate a list of 25 elements, then create a smaler list from that list of numbers based on the following conditions\n",
    "   - number that is divisible by 3\n",
    "   - number that is divisible 5\n",
    "   - number that is divisible by both 3 and 5"
   ]
  },
  {
   "cell_type": "code",
   "execution_count": 1,
   "metadata": {},
   "outputs": [
    {
     "name": "stdout",
     "output_type": "stream",
     "text": [
      "[8, 8, 6, 4, 2, 3, 1, 45, 25, 9, 4, 1, 66, 74, 78, 86, 589, 648, 64, 44, 53, 51, 42, 15, 56]\n",
      "[6, 3, 45, 45, 45, 25, 9, 66, 78, 648, 51, 42, 15, 15, 15]\n"
     ]
    }
   ],
   "source": [
    "numbers=[]\n",
    "for i in range(25):\n",
    "    val= int(input(\"><enter a number:\"))\n",
    "    numbers.append(val)\n",
    "print(numbers)\n",
    "x=[]\n",
    "for i in numbers:\n",
    "    if(i %3==0):\n",
    "       x.append(i)\n",
    "    if(i %5==0):\n",
    "        x.append(i)\n",
    "    if(i %3==0 and i %5==0):\n",
    "        x.append(i)\n",
    "print(x)"
   ]
  },
  {
   "cell_type": "markdown",
   "metadata": {},
   "source": [
    "# Question4: Remove every 3rd element from a list of size 25 and print the list"
   ]
  },
  {
   "cell_type": "code",
   "execution_count": 24,
   "metadata": {},
   "outputs": [
    {
     "name": "stdout",
     "output_type": "stream",
     "text": [
      "[101, 102, 103, 105, 106, 107, 109, 110, 111, 113, 114, 115, 117, 118, 119, 121, 122, 123]\n"
     ]
    }
   ],
   "source": [
    "x= list(range(100,125))\n",
    "\n",
    "for i, v in enumerate(x):\n",
    "    if i%3==0:\n",
    "        x.pop(i)\n",
    "print(x)"
   ]
  },
  {
   "cell_type": "code",
   "execution_count": 18,
   "metadata": {},
   "outputs": [
    {
     "ename": "NameError",
     "evalue": "name 'index' is not defined",
     "output_type": "error",
     "traceback": [
      "\u001b[1;31m---------------------------------------------------------------------------\u001b[0m",
      "\u001b[1;31mNameError\u001b[0m                                 Traceback (most recent call last)",
      "\u001b[1;32mc:\\Users\\ASPIRE 3\\Documents\\Python digipodium\\listques.ipynb Cell 10'\u001b[0m in \u001b[0;36m<cell line: 2>\u001b[1;34m()\u001b[0m\n\u001b[0;32m      <a href='vscode-notebook-cell:/c%3A/Users/ASPIRE%203/Documents/Python%20digipodium/listques.ipynb#ch0000009?line=2'>3</a>\u001b[0m val\u001b[39m=\u001b[39m \u001b[39mint\u001b[39m(\u001b[39minput\u001b[39m(\u001b[39m\"\u001b[39m\u001b[39m><enter a number:\u001b[39m\u001b[39m\"\u001b[39m))\n\u001b[0;32m      <a href='vscode-notebook-cell:/c%3A/Users/ASPIRE%203/Documents/Python%20digipodium/listques.ipynb#ch0000009?line=3'>4</a>\u001b[0m numbers\u001b[39m.\u001b[39mappend(val)\n\u001b[1;32m----> <a href='vscode-notebook-cell:/c%3A/Users/ASPIRE%203/Documents/Python%20digipodium/listques.ipynb#ch0000009?line=4'>5</a>\u001b[0m x\u001b[39m.\u001b[39mpop(index\u001b[39m%\u001b[39m \u001b[39m3\u001b[39m\u001b[39m==\u001b[39m\u001b[39m0\u001b[39m)\n",
      "\u001b[1;31mNameError\u001b[0m: name 'index' is not defined"
     ]
    }
   ],
   "source": [
    "numbers=[]\n",
    "for i in range(25):\n",
    "    val= int(input(\"><enter a number:\"))\n",
    "    numbers.append(val)\n",
    "    x.pop(index% 3==0)\n",
    "print(numbers)"
   ]
  },
  {
   "cell_type": "code",
   "execution_count": null,
   "metadata": {},
   "outputs": [],
   "source": [
    "3\n",
    "4\n",
    "5\n",
    "6\n",
    "7\n",
    "3\n",
    "\n"
   ]
  },
  {
   "cell_type": "markdown",
   "metadata": {},
   "source": [
    "# Question4: take names of 10 movies from user and store them in a list, then display the list in sorted order\n"
   ]
  },
  {
   "cell_type": "code",
   "execution_count": 28,
   "metadata": {},
   "outputs": [
    {
     "name": "stdout",
     "output_type": "stream",
     "text": [
      "['I', 'a', 'coz', 'dont', 'hello', 'is', 'know', 'list', 'random', 'this']\n"
     ]
    }
   ],
   "source": [
    "movies=[]\n",
    "for val in range(10):\n",
    "    val= str(input(\"><enter a movie:\"))\n",
    "    movies.append(val)\n",
    "movies.sort()\n",
    "print(movies)"
   ]
  },
  {
   "cell_type": "markdown",
   "metadata": {},
   "source": [
    "# create a nested list that contains triplets at each index\n",
    "   [\n",
    "       [1,2,3]\n",
    "       [4,5,6]\n",
    "       [7,8,9]\n",
    "   ]"
   ]
  },
  {
   "cell_type": "code",
   "execution_count": 30,
   "metadata": {},
   "outputs": [
    {
     "name": "stdout",
     "output_type": "stream",
     "text": [
      "[[0, 0, 0], [1, 1, 1], [2, 2, 2], [3, 3, 3], [4, 4, 4]]\n"
     ]
    }
   ],
   "source": [
    "x=[]\n",
    "for i in range(5):\n",
    "    x.append([i,i,i])\n",
    "print(x)"
   ]
  },
  {
   "cell_type": "code",
   "execution_count": 49,
   "metadata": {},
   "outputs": [
    {
     "name": "stdout",
     "output_type": "stream",
     "text": [
      "[[1, 2, 3], [4, 5, 6], [7, 8, 9]]\n"
     ]
    }
   ],
   "source": [
    "x=[]\n",
    "counter=1\n",
    "for i in range(3):\n",
    "    inner=[]\n",
    "    for j in range(1,4):\n",
    "         inner.append(counter)\n",
    "         counter+=1\n",
    "    x.append(inner)\n",
    "print(x)"
   ]
  },
  {
   "cell_type": "code",
   "execution_count": null,
   "metadata": {},
   "outputs": [],
   "source": []
  }
 ],
 "metadata": {
  "interpreter": {
   "hash": "19d1d53a962d236aa061289c2ac16dc8e6d9648c89fe79f459ae9a3493bc67b4"
  },
  "kernelspec": {
   "display_name": "Python 3.9.12 ('base')",
   "language": "python",
   "name": "python3"
  },
  "language_info": {
   "codemirror_mode": {
    "name": "ipython",
    "version": 3
   },
   "file_extension": ".py",
   "mimetype": "text/x-python",
   "name": "python",
   "nbconvert_exporter": "python",
   "pygments_lexer": "ipython3",
   "version": "3.9.12"
  },
  "orig_nbformat": 4
 },
 "nbformat": 4,
 "nbformat_minor": 2
}
