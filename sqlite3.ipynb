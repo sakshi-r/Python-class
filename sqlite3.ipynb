{
 "cells": [
  {
   "cell_type": "code",
   "execution_count": 2,
   "metadata": {},
   "outputs": [],
   "source": [
    "import sqlite3\n",
    "con= sqlite3.connect('example.db')"
   ]
  },
  {
   "cell_type": "code",
   "execution_count": 4,
   "metadata": {},
   "outputs": [
    {
     "ename": "NameError",
     "evalue": "name 'Base' is not defined",
     "output_type": "error",
     "traceback": [
      "\u001b[1;31m---------------------------------------------------------------------------\u001b[0m",
      "\u001b[1;31mNameError\u001b[0m                                 Traceback (most recent call last)",
      "\u001b[1;32mc:\\Users\\ASPIRE 3\\Documents\\Python digipodium\\sqlite3.ipynb Cell 2'\u001b[0m in \u001b[0;36m<cell line: 1>\u001b[1;34m()\u001b[0m\n\u001b[1;32m----> <a href='vscode-notebook-cell:/c%3A/Users/ASPIRE%203/Documents/Python%20digipodium/sqlite3.ipynb#ch0000001?line=0'>1</a>\u001b[0m \u001b[39mclass\u001b[39;00m \u001b[39mContact\u001b[39;00m(Base):\n\u001b[0;32m      <a href='vscode-notebook-cell:/c%3A/Users/ASPIRE%203/Documents/Python%20digipodium/sqlite3.ipynb#ch0000001?line=1'>2</a>\u001b[0m     __tablename__\u001b[39m=\u001b[39m\u001b[39m'\u001b[39m\u001b[39mContacts\u001b[39m\u001b[39m'\u001b[39m\n\u001b[0;32m      <a href='vscode-notebook-cell:/c%3A/Users/ASPIRE%203/Documents/Python%20digipodium/sqlite3.ipynb#ch0000001?line=2'>3</a>\u001b[0m     \u001b[39mid\u001b[39m\u001b[39m=\u001b[39m Column(integer, primary_key\u001b[39m=\u001b[39m \u001b[39mTrue\u001b[39;00m)\n",
      "\u001b[1;31mNameError\u001b[0m: name 'Base' is not defined"
     ]
    }
   ],
   "source": [
    "class Contact(Base):\n",
    "    __tablename__='Contacts'\n",
    "    id= Column(integer, primary_key= True)\n",
    "    name= Column(String(50))\n",
    "    age= Column(integer)\n",
    "    contact= Column(String(10))\n",
    "    date= Column(DateTime, default=datetime.now())"
   ]
  },
  {
   "cell_type": "code",
   "execution_count": 5,
   "metadata": {},
   "outputs": [],
   "source": [
    "cur= con.cursor()\n",
    "cur.execute('''CREATE TABLE stocks(date text, trans text, symbol text, qty real, price real)''')\n",
    "cur.execute(\"INSERT INTO stocks VALUES('2006-01-05', 'BUY', 'RHAT', 100, 35.14)\")\n",
    "con.commit()"
   ]
  },
  {
   "cell_type": "code",
   "execution_count": 8,
   "metadata": {},
   "outputs": [
    {
     "name": "stdout",
     "output_type": "stream",
     "text": [
      "('2006-01-05', 'BUY', 'RHAT', 100.0, 35.14)\n"
     ]
    }
   ],
   "source": [
    "for row in cur.execute('SELECT * FROM stocks ORDER BY price'):\n",
    "    print(row)"
   ]
  },
  {
   "cell_type": "code",
   "execution_count": null,
   "metadata": {},
   "outputs": [],
   "source": []
  },
  {
   "cell_type": "code",
   "execution_count": null,
   "metadata": {},
   "outputs": [],
   "source": []
  }
 ],
 "metadata": {
  "kernelspec": {
   "display_name": "Python 3.10.5 64-bit",
   "language": "python",
   "name": "python3"
  },
  "language_info": {
   "codemirror_mode": {
    "name": "ipython",
    "version": 3
   },
   "file_extension": ".py",
   "mimetype": "text/x-python",
   "name": "python",
   "nbconvert_exporter": "python",
   "pygments_lexer": "ipython3",
   "version": "3.10.5"
  },
  "orig_nbformat": 4,
  "vscode": {
   "interpreter": {
    "hash": "5402ebba8cf15a806dc9d4ad29c33f8db1f2b4353112154226fe442857eb5f9d"
   }
  }
 },
 "nbformat": 4,
 "nbformat_minor": 2
}
