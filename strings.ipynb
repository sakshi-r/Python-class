{
 "cells": [
  {
   "cell_type": "markdown",
   "metadata": {},
   "source": [
    "# to print odd index elements"
   ]
  },
  {
   "cell_type": "code",
   "execution_count": 2,
   "metadata": {},
   "outputs": [],
   "source": [
    "w= \"worldsingers\""
   ]
  },
  {
   "cell_type": "code",
   "execution_count": 3,
   "metadata": {},
   "outputs": [
    {
     "data": {
      "text/plain": [
       "'olsnes'"
      ]
     },
     "execution_count": 3,
     "metadata": {},
     "output_type": "execute_result"
    }
   ],
   "source": [
    "w[1::2]"
   ]
  },
  {
   "cell_type": "code",
   "execution_count": 5,
   "metadata": {},
   "outputs": [
    {
     "data": {
      "text/plain": [
       "'wrdigr'"
      ]
     },
     "execution_count": 5,
     "metadata": {},
     "output_type": "execute_result"
    }
   ],
   "source": [
    "w[0::2] #even indexes"
   ]
  },
  {
   "cell_type": "code",
   "execution_count": 7,
   "metadata": {},
   "outputs": [
    {
     "data": {
      "text/plain": [
       "'senslo'"
      ]
     },
     "execution_count": 7,
     "metadata": {},
     "output_type": "execute_result"
    }
   ],
   "source": [
    "w[-1::-2] #to reverse"
   ]
  },
  {
   "cell_type": "code",
   "execution_count": 9,
   "metadata": {},
   "outputs": [
    {
     "data": {
      "text/plain": [
       "'rgidrw'"
      ]
     },
     "execution_count": 9,
     "metadata": {},
     "output_type": "execute_result"
    }
   ],
   "source": [
    "w[-2::-2] #to reverse"
   ]
  },
  {
   "cell_type": "code",
   "execution_count": 11,
   "metadata": {},
   "outputs": [
    {
     "name": "stdout",
     "output_type": "stream",
     "text": [
      "             L \n",
      "           L L \n",
      "         L L L \n",
      "       L L L L \n",
      "     L L L L L \n"
     ]
    }
   ],
   "source": [
    "for i in range(1,6):\n",
    "    print((i*'L ').rjust(15))"
   ]
  },
  {
   "cell_type": "markdown",
   "metadata": {},
   "source": [
    "# Methods"
   ]
  },
  {
   "cell_type": "code",
   "execution_count": 12,
   "metadata": {},
   "outputs": [],
   "source": [
    "w=\"worldsingers\""
   ]
  },
  {
   "cell_type": "code",
   "execution_count": 15,
   "metadata": {},
   "outputs": [
    {
     "data": {
      "text/plain": [
       "'        worldsingers'"
      ]
     },
     "execution_count": 15,
     "metadata": {},
     "output_type": "execute_result"
    }
   ],
   "source": [
    "w.rjust(20) #rjust for right justification"
   ]
  },
  {
   "cell_type": "code",
   "execution_count": 18,
   "metadata": {},
   "outputs": [
    {
     "name": "stdout",
     "output_type": "stream",
     "text": [
      "                   l\n",
      "                  ll\n",
      "                 lll\n",
      "                llll\n",
      "               lllll\n"
     ]
    }
   ],
   "source": [
    "for i in range(1,6):\n",
    "    print(('l'* i).rjust(20))"
   ]
  },
  {
   "cell_type": "code",
   "execution_count": 23,
   "metadata": {},
   "outputs": [
    {
     "name": "stdout",
     "output_type": "stream",
     "text": [
      "              l               \n",
      "        l l l l l l l         \n",
      "  l l l l l l l l l l l l l   \n"
     ]
    }
   ],
   "source": [
    "for i in range(1,16,6):\n",
    "    print(('l '* i).center(30))"
   ]
  },
  {
   "cell_type": "code",
   "execution_count": 27,
   "metadata": {},
   "outputs": [
    {
     "name": "stdout",
     "output_type": "stream",
     "text": [
      "              *               \n",
      "            *****             \n",
      "          *********           \n",
      "        *************         \n"
     ]
    }
   ],
   "source": [
    "for i in range(1,15,4):\n",
    "    print(('*'* i).center(30))"
   ]
  },
  {
   "cell_type": "code",
   "execution_count": 28,
   "metadata": {},
   "outputs": [
    {
     "name": "stdout",
     "output_type": "stream",
     "text": [
      "              00              \n",
      "            000000            \n",
      "          0000000000          \n",
      "        00000000000000        \n"
     ]
    }
   ],
   "source": [
    "for j in range(2,15,4):\n",
    "    print(('0'*j).center(30))"
   ]
  },
  {
   "cell_type": "code",
   "execution_count": 29,
   "metadata": {},
   "outputs": [
    {
     "name": "stdout",
     "output_type": "stream",
     "text": [
      "        00000000000000        \n",
      "              *               \n",
      "        00000000000000        \n",
      "            *****             \n",
      "        00000000000000        \n",
      "          *********           \n",
      "        00000000000000        \n",
      "        *************         \n"
     ]
    }
   ],
   "source": [
    "for i in range(1,15,4):\n",
    "    if j in range(2,15,4):\n",
    "        print(('0'*j).center(30))\n",
    "    print(('*'* i).center(30))"
   ]
  },
  {
   "cell_type": "code",
   "execution_count": 30,
   "metadata": {},
   "outputs": [
    {
     "name": "stdout",
     "output_type": "stream",
     "text": [
      "              *               \n",
      "        00000000000000        \n",
      "            *****             \n",
      "        00000000000000        \n",
      "          *********           \n",
      "        00000000000000        \n",
      "        *************         \n",
      "        00000000000000        \n"
     ]
    }
   ],
   "source": [
    "for i in range(1,15,4):\n",
    "    print(('*'* i).center(30))\n",
    "    if j in range(2,15,4):\n",
    "        print(('0'* j).center(30))"
   ]
  },
  {
   "cell_type": "code",
   "execution_count": 33,
   "metadata": {},
   "outputs": [
    {
     "name": "stdout",
     "output_type": "stream",
     "text": [
      "                   0                    \n",
      "                  ***                   \n",
      "                 00000                  \n",
      "                *******                 \n",
      "               000000000                \n",
      "              ***********               \n",
      "             0000000000000              \n"
     ]
    }
   ],
   "source": [
    "for i,v in enumerate(range(1,15,2)):\n",
    "    if i%2==0:\n",
    "        print((v*'0').center(40))\n",
    "    else:\n",
    "        print((v*'*').center(40))"
   ]
  },
  {
   "cell_type": "markdown",
   "metadata": {},
   "source": [
    "# String Functions"
   ]
  },
  {
   "cell_type": "code",
   "execution_count": 34,
   "metadata": {},
   "outputs": [
    {
     "name": "stdout",
     "output_type": "stream",
     "text": [
      "No Python documentation found for 'worldsingers'.\n",
      "Use help() to get the interactive help utility.\n",
      "Use help(str) for help on the str class.\n",
      "\n"
     ]
    }
   ],
   "source": [
    "help(w)"
   ]
  },
  {
   "cell_type": "code",
   "execution_count": 36,
   "metadata": {},
   "outputs": [
    {
     "name": "stdout",
     "output_type": "stream",
     "text": [
      "\u001b[1;31mSignature:\u001b[0m \u001b[0mw\u001b[0m\u001b[1;33m.\u001b[0m\u001b[0mcenter\u001b[0m\u001b[1;33m(\u001b[0m\u001b[0mwidth\u001b[0m\u001b[1;33m,\u001b[0m \u001b[0mfillchar\u001b[0m\u001b[1;33m=\u001b[0m\u001b[1;34m' '\u001b[0m\u001b[1;33m,\u001b[0m \u001b[1;33m/\u001b[0m\u001b[1;33m)\u001b[0m\u001b[1;33m\u001b[0m\u001b[1;33m\u001b[0m\u001b[0m\n",
      "\u001b[1;31mDocstring:\u001b[0m\n",
      "Return a centered string of length width.\n",
      "\n",
      "Padding is done using the specified fill character (default is a space).\n",
      "\u001b[1;31mType:\u001b[0m      builtin_function_or_method\n"
     ]
    }
   ],
   "source": [
    "w.center?"
   ]
  },
  {
   "cell_type": "code",
   "execution_count": 38,
   "metadata": {},
   "outputs": [
    {
     "name": "stdout",
     "output_type": "stream",
     "text": [
      "%%%%%%%%%%%%%%00%%%%%%%%%%%%%%\n",
      "%%%%%%%%%%%%000000%%%%%%%%%%%%\n",
      "%%%%%%%%%%0000000000%%%%%%%%%%\n",
      "%%%%%%%%00000000000000%%%%%%%%\n"
     ]
    }
   ],
   "source": [
    "for j in range(2,15,4):\n",
    "    print(('0'*j).center(30,'%')) #fillchar is used for filling the spaces with either spaces simply or with another character"
   ]
  },
  {
   "cell_type": "code",
   "execution_count": 40,
   "metadata": {},
   "outputs": [
    {
     "name": "stdout",
     "output_type": "stream",
     "text": [
      "^^^^^^^^^^^^^^^^^^^^0^^^^^^^^^^^^^^^^^^^^\n",
      "^^^^^^^^^^^^^^^^^^^***^^^^^^^^^^^^^^^^^^^\n",
      "^^^^^^^^^^^^^^^^^^00000^^^^^^^^^^^^^^^^^^\n",
      "^^^^^^^^^^^^^^^^^*******^^^^^^^^^^^^^^^^^\n",
      "^^^^^^^^^^^^^^^^000000000^^^^^^^^^^^^^^^^\n",
      "^^^^^^^^^^^^^^^***********^^^^^^^^^^^^^^^\n",
      "^^^^^^^^^^^^^^0000000000000^^^^^^^^^^^^^^\n"
     ]
    }
   ],
   "source": [
    "for i,v in enumerate(range(1,15,2)):\n",
    "    if i%2==0:\n",
    "        print((v*'0').center(41,'^'))\n",
    "    else:\n",
    "        print((v*'*').center(41,'^'))"
   ]
  },
  {
   "cell_type": "code",
   "execution_count": 41,
   "metadata": {},
   "outputs": [],
   "source": [
    "story='''Padding is white space immediately surrounding an element or another object on a web page. The picture below helps demonstrate the difference between padding and a margin when working with CSS. As shown, the padding is in the border, and the margin is outside the border.'''"
   ]
  },
  {
   "cell_type": "code",
   "execution_count": 42,
   "metadata": {},
   "outputs": [
    {
     "data": {
      "text/plain": [
       "271"
      ]
     },
     "execution_count": 42,
     "metadata": {},
     "output_type": "execute_result"
    }
   ],
   "source": [
    "len(story)"
   ]
  },
  {
   "cell_type": "code",
   "execution_count": 45,
   "metadata": {},
   "outputs": [
    {
     "name": "stdout",
     "output_type": "stream",
     "text": [
      "46\n"
     ]
    }
   ],
   "source": [
    "words=story.split()\n",
    "print(len(words))"
   ]
  },
  {
   "cell_type": "code",
   "execution_count": 50,
   "metadata": {},
   "outputs": [],
   "source": [
    "wordlist = ['Chocolate','is','good','for','health']"
   ]
  },
  {
   "cell_type": "code",
   "execution_count": 51,
   "metadata": {},
   "outputs": [
    {
     "data": {
      "text/plain": [
       "'Chocolate is good for health'"
      ]
     },
     "execution_count": 51,
     "metadata": {},
     "output_type": "execute_result"
    }
   ],
   "source": [
    "' '.join(wordlist)"
   ]
  },
  {
   "cell_type": "code",
   "execution_count": 52,
   "metadata": {},
   "outputs": [
    {
     "data": {
      "text/plain": [
       "'Padding for white space immediately surrounding an element or another object on a web page. The picture below helps demonstrate the difference between padding and a margin when working with CSS. As shown, the padding for in the border, and the margin for outside the border.'"
      ]
     },
     "execution_count": 52,
     "metadata": {},
     "output_type": "execute_result"
    }
   ],
   "source": [
    "story.replace('is','for')"
   ]
  },
  {
   "cell_type": "code",
   "execution_count": null,
   "metadata": {},
   "outputs": [],
   "source": []
  }
 ],
 "metadata": {
  "interpreter": {
   "hash": "19d1d53a962d236aa061289c2ac16dc8e6d9648c89fe79f459ae9a3493bc67b4"
  },
  "kernelspec": {
   "display_name": "Python 3.9.12 ('base')",
   "language": "python",
   "name": "python3"
  },
  "language_info": {
   "codemirror_mode": {
    "name": "ipython",
    "version": 3
   },
   "file_extension": ".py",
   "mimetype": "text/x-python",
   "name": "python",
   "nbconvert_exporter": "python",
   "pygments_lexer": "ipython3",
   "version": "3.9.12"
  },
  "orig_nbformat": 4
 },
 "nbformat": 4,
 "nbformat_minor": 2
}
